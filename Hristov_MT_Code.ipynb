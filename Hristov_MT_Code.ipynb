{
  "nbformat": 4,
  "nbformat_minor": 0,
  "metadata": {
    "colab": {
      "name": "Hristov MT Code",
      "provenance": [],
      "collapsed_sections": [],
      "toc_visible": true,
      "machine_shape": "hm"
    },
    "kernelspec": {
      "name": "python3",
      "display_name": "Python 3"
    },
    "accelerator": "GPU"
  },
  "cells": [
    {
      "cell_type": "code",
      "metadata": {
        "id": "487KzaSn5KJZ",
        "colab_type": "code",
        "colab": {}
      },
      "source": [
        "!cat /proc/meminfo"
      ],
      "execution_count": 0,
      "outputs": []
    },
    {
      "cell_type": "code",
      "metadata": {
        "id": "USLL8zFI5Shi",
        "colab_type": "code",
        "colab": {}
      },
      "source": [
        "!cat /proc/cpuinfo"
      ],
      "execution_count": 0,
      "outputs": []
    },
    {
      "cell_type": "code",
      "metadata": {
        "id": "oX9Xcrzj6FG9",
        "colab_type": "code",
        "colab": {}
      },
      "source": [
        "from tensorflow.python.client import device_lib\n",
        "device_lib.list_local_devices()"
      ],
      "execution_count": 0,
      "outputs": []
    },
    {
      "cell_type": "code",
      "metadata": {
        "id": "xSWYK2_oqwc2",
        "colab_type": "code",
        "outputId": "7aee97de-36fd-446b-93b6-6cf18e5635cd",
        "colab": {
          "base_uri": "https://localhost:8080/",
          "height": 125
        }
      },
      "source": [
        "from google.colab import drive\n",
        "drive.mount('/content/drive')"
      ],
      "execution_count": 0,
      "outputs": [
        {
          "output_type": "stream",
          "text": [
            "Go to this URL in a browser: https://accounts.google.com/o/oauth2/auth?client_id=947318989803-6bn6qk8qdgf4n4g3pfee6491hc0brc4i.apps.googleusercontent.com&redirect_uri=urn%3aietf%3awg%3aoauth%3a2.0%3aoob&response_type=code&scope=email%20https%3a%2f%2fwww.googleapis.com%2fauth%2fdocs.test%20https%3a%2f%2fwww.googleapis.com%2fauth%2fdrive%20https%3a%2f%2fwww.googleapis.com%2fauth%2fdrive.photos.readonly%20https%3a%2f%2fwww.googleapis.com%2fauth%2fpeopleapi.readonly\n",
            "\n",
            "Enter your authorization code:\n",
            "··········\n",
            "Mounted at /content/drive\n"
          ],
          "name": "stdout"
        }
      ]
    },
    {
      "cell_type": "code",
      "metadata": {
        "id": "-iwwyyf2KfQu",
        "colab_type": "code",
        "colab": {}
      },
      "source": [
        "def hms_string(sec_elapsed):\n",
        "    h = int(sec_elapsed / (60 * 60))\n",
        "    m = int((sec_elapsed % (60 * 60)) / 60)\n",
        "    s = sec_elapsed % 60\n",
        "    return f\"{h}:{m:>02}:{s:>05.2f}\""
      ],
      "execution_count": 0,
      "outputs": []
    },
    {
      "cell_type": "code",
      "metadata": {
        "id": "ZCDAXp6YM1Tz",
        "colab_type": "code",
        "colab": {}
      },
      "source": [
        "#imports\n",
        "import time\n",
        "import requests\n",
        "import numpy as np\n",
        "import pandas as pd\n",
        "from random import seed\n",
        "from random import random\n",
        "from sklearn import metrics\n",
        "\n",
        "from scipy.stats import zscore\n",
        "import datetime\n",
        "\n",
        "import matplotlib.pyplot as plt\n",
        "from keras.regularizers import l2\n",
        "from keras.utils import plot_model\n",
        "from tensorflow.keras.models import *\n",
        "from tensorflow.keras.layers import *\n",
        "from tensorflow.keras.utils import plot_model"
      ],
      "execution_count": 0,
      "outputs": []
    },
    {
      "cell_type": "markdown",
      "metadata": {
        "id": "1LIEBK-P4hX7",
        "colab_type": "text"
      },
      "source": [
        "# Load the log and eliminate nulls\n",
        "no shuffling\n"
      ]
    },
    {
      "cell_type": "code",
      "metadata": {
        "id": "NO98XNdMqqec",
        "colab_type": "code",
        "colab": {}
      },
      "source": [
        "#log will be preprocessed\n",
        "df = pd.read_csv('/content/drive/My Drive/Student/VFU/s2/Process mining/logs/new/incident_event_log.csv',\n",
        "                 na_values=['NA', '?'])\n",
        "\n",
        "#1. get a list of all the columns \n",
        "columns = list(df) \n",
        "\n",
        "#2. show which columns have missing values\n",
        "for column in columns: \n",
        "    if pd.isnull(df[column]).values.any():\n",
        "        print(f'{column} has missing values')\n",
        "\n",
        "#2.1. split the columns in two categories - droppable and non-droppable\n",
        "droppable_na = ['opened_by','sys_created_by','sys_created_at','rfc','caused_by','closed_code','resolved_at']\n",
        "\n",
        "#2.2. to the list of droppables we add those that we deem are not needed for the model\n",
        "#we also drop incident number (not needed index)\n",
        "droppable_all = ['number','opened_by','sys_created_by','sys_created_at','rfc','caused_by','closed_code',\n",
        "                 'resolved_at','incident_state','active','sys_mod_count','opened_by','sys_updated_at',\n",
        "                 'contact_type','knowledge','u_priority_confirmation','notify','resolved_at']\n",
        "non_droppable_na = ['caller_id','location','category','subcategory','u_symptom','cmdb_ci','assignment_group',\n",
        "                 'assigned_to','problem_id','vendor','resolved_by']\n",
        "\n",
        "#3. For these columns, drop the ones we don't need, including columns that do not have NA values (2.2.)\n",
        "print('------------------------------------')\n",
        "print(f\"Before drop: {list(df.columns)}\")\n",
        "df.drop(droppable_all, 1, inplace=True)\n",
        "print('------------------------------------')\n",
        "print(f\"After drop: {list(df.columns)}\")\n",
        "\n",
        "#4. all non-droppable columns contain categorial values. Can't approximate, need to fill NA\n",
        "for column in non_droppable_na:\n",
        "  df[column].fillna(f'No {column}', inplace = True) # make sure to use the column name\n",
        "print('------------------------------------')\n",
        "#5 check for nulls again\n",
        "columns = list(df)\n",
        "for column in columns: \n",
        "    if pd.isnull(df[column]).values.any():\n",
        "        print(f'{column} has missing values')\n",
        "    else:\n",
        "        print(f'{column} does not have missing values')\n",
        "\n",
        "df.head()\n"
      ],
      "execution_count": 0,
      "outputs": []
    },
    {
      "cell_type": "markdown",
      "metadata": {
        "id": "Xrm0bgZ64l7o",
        "colab_type": "text"
      },
      "source": [
        "# Continuous variables"
      ]
    },
    {
      "cell_type": "markdown",
      "metadata": {
        "id": "7PeXI8l7kluA",
        "colab_type": "text"
      },
      "source": [
        "## Calculate duration"
      ]
    },
    {
      "cell_type": "code",
      "metadata": {
        "id": "mmq64P3wkl-k",
        "colab_type": "code",
        "colab": {}
      },
      "source": [
        "df['opened_at'] = pd.to_datetime(df['opened_at'], format='%d/%m/%Y %H:%M')\n",
        "df['closed_at'] = pd.to_datetime(df['closed_at'], format='%d/%m/%Y %H:%M')\n",
        "df['case_duration'] = df['closed_at'] - df['opened_at']\n",
        "df['case_duration'] = df['case_duration']/np.timedelta64(1,'D')\n",
        "df.dtypes"
      ],
      "execution_count": 0,
      "outputs": []
    },
    {
      "cell_type": "code",
      "metadata": {
        "id": "zA9_mPGmHbxT",
        "colab_type": "code",
        "colab": {}
      },
      "source": [
        "df['case_duration']"
      ],
      "execution_count": 0,
      "outputs": []
    },
    {
      "cell_type": "markdown",
      "metadata": {
        "id": "5TXfWFhT4t7R",
        "colab_type": "text"
      },
      "source": [
        "## Standardization (case duration)"
      ]
    },
    {
      "cell_type": "code",
      "metadata": {
        "id": "nqUfC3p74tNR",
        "colab_type": "code",
        "colab": {}
      },
      "source": [
        "df['case_duration'] = zscore(df['case_duration']) \n",
        "# Calculate the z score of each value in the sample, relative to the sample mean and standard deviation.\n",
        "# cases with average duration will be near zero, above zero is above average, and below zero is below average. \n",
        "# not needeed, can be left out\n",
        "df.head()"
      ],
      "execution_count": 0,
      "outputs": []
    },
    {
      "cell_type": "markdown",
      "metadata": {
        "id": "3g19luiXVFSg",
        "colab_type": "text"
      },
      "source": [
        "## Encoding cyclical continuous feature (date)\n",
        "opened at and closed at - Making the assumption that day of week is what is of interest to us. \n",
        "\n",
        "further reading: https://ianlondon.github.io/blog/encoding-cyclical-features-24hour-time/"
      ]
    },
    {
      "cell_type": "code",
      "metadata": {
        "id": "pSMCf402Vl7j",
        "colab_type": "code",
        "colab": {}
      },
      "source": [
        "# 1. convert to date and extract weekday in text\n",
        "df['opened_at'] = df['opened_at'].apply(lambda x: x.strftime('%w')).astype(int)\n",
        "df['closed_at'] = df['closed_at'].apply(lambda x: x.strftime('%w')).astype(int)\n",
        "#Weekday as a decimal number, where 0 is Sunday and 6 is Saturday.\n",
        "df.head()"
      ],
      "execution_count": 0,
      "outputs": []
    },
    {
      "cell_type": "code",
      "metadata": {
        "id": "JKetSY1yHBWF",
        "colab_type": "code",
        "colab": {}
      },
      "source": [
        "df.dtypes"
      ],
      "execution_count": 0,
      "outputs": []
    },
    {
      "cell_type": "markdown",
      "metadata": {
        "id": "t2NerUNB_TnR",
        "colab_type": "text"
      },
      "source": [
        "## encode \"made_sla\""
      ]
    },
    {
      "cell_type": "code",
      "metadata": {
        "id": "J69qfv7-dGdX",
        "colab_type": "code",
        "colab": {}
      },
      "source": [
        "# convert made_sla\n",
        "df['made_sla'] = df['made_sla'].astype(int)\n",
        "df.head()"
      ],
      "execution_count": 0,
      "outputs": []
    },
    {
      "cell_type": "markdown",
      "metadata": {
        "id": "3S_16TG6NxVb",
        "colab_type": "text"
      },
      "source": [
        "### quantitative features analysis (data exploration)\n",
        "plot distribution histo"
      ]
    },
    {
      "cell_type": "code",
      "metadata": {
        "id": "UE_hpqFBAqw9",
        "colab_type": "code",
        "outputId": "a6e8d1c3-2d4d-48ec-fedd-ec6bc09b36e5",
        "colab": {
          "base_uri": "https://localhost:8080/",
          "height": 285
        }
      },
      "source": [
        "import matplotlib.pyplot as plt\n",
        "import seaborn as sns\n",
        "\n",
        "df['opened_at']=df['opened_at'].astype(int)\n",
        "sns.set(style=\"darkgrid\")\n",
        "sns.distplot(df['opened_at'], kde=False, rug=False, axlabel='Opened at');"
      ],
      "execution_count": 0,
      "outputs": [
        {
          "output_type": "display_data",
          "data": {
            "image/png": "[encoded data removed]",
            "text/plain": [
              "<Figure size 432x288 with 1 Axes>"
            ]
          },
          "metadata": {
            "tags": []
          }
        }
      ]
    },
    {
      "cell_type": "markdown",
      "metadata": {
        "id": "Z5wIJSdxGPjC",
        "colab_type": "text"
      },
      "source": [
        "#### Fitting gamma distribution to case_duration\n"
      ]
    },
    {
      "cell_type": "code",
      "metadata": {
        "id": "x-BIxDGAEfy7",
        "colab_type": "code",
        "outputId": "d7cb842b-66f6-4bad-e1fb-a7f4548ca688",
        "colab": {
          "base_uri": "https://localhost:8080/",
          "height": 285
        }
      },
      "source": [
        "from scipy import stats\n",
        "\n",
        "sns.distplot(df['case_duration'], hist=False, rug=False, kde=True, fit=stats.gamma, axlabel='Case duration');\n",
        "#black line - gamm distribution\n",
        "#blue line - variable values distribution"
      ],
      "execution_count": 0,
      "outputs": [
        {
          "output_type": "display_data",
          "data": {
            "image/png": "[encoded data removed]",
            "text/plain": [
              "<Figure size 432x288 with 1 Axes>"
            ]
          },
          "metadata": {
            "tags": []
          }
        }
      ]
    },
    {
      "cell_type": "markdown",
      "metadata": {
        "id": "z7YQh2VIDjjG",
        "colab_type": "text"
      },
      "source": [
        "#### pairplot"
      ]
    },
    {
      "cell_type": "code",
      "metadata": {
        "id": "QNEKERHMCu9f",
        "colab_type": "code",
        "colab": {}
      },
      "source": [
        "sns.pairplot(df);"
      ],
      "execution_count": 0,
      "outputs": []
    },
    {
      "cell_type": "markdown",
      "metadata": {
        "id": "tQyaXdXG4v4M",
        "colab_type": "text"
      },
      "source": [
        "# Categorical variables"
      ]
    },
    {
      "cell_type": "markdown",
      "metadata": {
        "id": "mKI2p0k44wAB",
        "colab_type": "text"
      },
      "source": [
        "## One-hot encoding "
      ]
    },
    {
      "cell_type": "markdown",
      "metadata": {
        "id": "q-zrfe4rUVJy",
        "colab_type": "text"
      },
      "source": [
        "#### get list of categorical columns"
      ]
    },
    {
      "cell_type": "code",
      "metadata": {
        "id": "PmyYnntKwj6b",
        "colab_type": "code",
        "colab": {}
      },
      "source": [
        "dummies = {'caller_id':'','sys_updated_by':'','location':'','category':'','subcategory':'','u_symptom':'',\n",
        "           'cmdb_ci':'','impact':'','urgency':'','priority':'','assignment_group':'','assigned_to':'',\n",
        "           'problem_id':'','vendor':'','resolved_by':''}\n",
        "\n",
        "# show unique values\n",
        "for column in dummies:\n",
        "  print(f'{column}: {len(list(df[column].unique()))} unique values')"
      ],
      "execution_count": 0,
      "outputs": []
    },
    {
      "cell_type": "markdown",
      "metadata": {
        "id": "ato7T8uBUaAE",
        "colab_type": "text"
      },
      "source": [
        "#### dummy-encode"
      ]
    },
    {
      "cell_type": "code",
      "metadata": {
        "id": "IRxm0iOqc446",
        "colab_type": "code",
        "colab": {}
      },
      "source": [
        "for column in dummies:\n",
        "  dummies[column] = pd.get_dummies(df[column],prefix=column)\n",
        "  df = pd.concat([df,dummies[column]],axis=1)\n",
        "  df.drop(column, axis=1, inplace=True)\n",
        "\n",
        "df.head() \n",
        "#result is 8011 columns: 8005 dummies + 6 continuous columns"
      ],
      "execution_count": 0,
      "outputs": []
    },
    {
      "cell_type": "markdown",
      "metadata": {
        "id": "LTIRFSfAYMSH",
        "colab_type": "text"
      },
      "source": [
        "### generate x and y - 20% split"
      ]
    },
    {
      "cell_type": "code",
      "metadata": {
        "id": "toTOtg0tYQE5",
        "colab_type": "code",
        "colab": {}
      },
      "source": [
        "target = ['case_duration']\n",
        "\n",
        "X_train, y_train = df.iloc[:85024][df.columns.difference(target)], df.iloc[:85024][target]\n",
        "X_val, y_val = df.iloc[85025:113366][df.columns.difference(target)], df.iloc[85025:113366][target]\n",
        "X_test, y_test = df.iloc[113366:][df.columns.difference(target)], df.iloc[113366:][target]\n",
        "X_test"
      ],
      "execution_count": 0,
      "outputs": []
    },
    {
      "cell_type": "markdown",
      "metadata": {
        "id": "2-TxHVoXkV-S",
        "colab_type": "text"
      },
      "source": [
        "### train model"
      ]
    },
    {
      "cell_type": "code",
      "metadata": {
        "id": "Sg9gRn24jWb3",
        "colab_type": "code",
        "outputId": "eb97b65c-f906-403b-fc29-5001e33f6b05",
        "colab": {
          "base_uri": "https://localhost:8080/",
          "height": 481
        }
      },
      "source": [
        "start_time = time.time()\n",
        "\n",
        "model = Sequential()\n",
        "model.add(Dense(40, input_dim=X_train.shape[1], activation='relu',activity_regularizer=l2(0.001))) # Hidden 1\n",
        "model.add(Dense(20, activation='linear', activity_regularizer=l2(0.001))) # Hidden 2\n",
        "model.add(Dense(1)) # Output\n",
        "model.compile(loss='mean_squared_error',\n",
        "              optimizer='adam',\n",
        "              metrics=['mean_squared_error',\n",
        "                       'mean_absolute_error'])\n",
        "\n",
        "history = model.fit(X_train,y_train,\n",
        "                    validation_data=(X_val,y_val),\n",
        "                    epochs = 10,\n",
        "                    batch_size = 512,\n",
        "                    verbose = 2)\n",
        "\n",
        "elapsed_time = time.time() - start_time\n",
        "print(\"Elapsed time: {}\".format(hms_string(elapsed_time)))"
      ],
      "execution_count": 0,
      "outputs": [
        {
          "output_type": "stream",
          "text": [
            "WARNING:tensorflow:From /usr/local/lib/python3.6/dist-packages/tensorflow_core/python/ops/resource_variable_ops.py:1630: calling BaseResourceVariable.__init__ (from tensorflow.python.ops.resource_variable_ops) with constraint is deprecated and will be removed in a future version.\n",
            "Instructions for updating:\n",
            "If using Keras pass *_constraint arguments to layers.\n",
            "Train on 85024 samples, validate on 28341 samples\n",
            "Epoch 1/10\n",
            "85024/85024 - 25s - loss: 0.5548 - mean_squared_error: 0.5534 - mean_absolute_error: 0.3547 - val_loss: 0.6372 - val_mean_squared_error: 0.6360 - val_mean_absolute_error: 0.3982\n",
            "Epoch 2/10\n",
            "85024/85024 - 23s - loss: 0.2212 - mean_squared_error: 0.2200 - mean_absolute_error: 0.2418 - val_loss: 0.6650 - val_mean_squared_error: 0.6641 - val_mean_absolute_error: 0.4189\n",
            "Epoch 3/10\n",
            "85024/85024 - 23s - loss: 0.1104 - mean_squared_error: 0.1095 - mean_absolute_error: 0.1768 - val_loss: 0.7175 - val_mean_squared_error: 0.7168 - val_mean_absolute_error: 0.4484\n",
            "Epoch 4/10\n",
            "85024/85024 - 23s - loss: 0.0646 - mean_squared_error: 0.0638 - mean_absolute_error: 0.1383 - val_loss: 0.7439 - val_mean_squared_error: 0.7433 - val_mean_absolute_error: 0.4535\n",
            "Epoch 5/10\n",
            "85024/85024 - 23s - loss: 0.0460 - mean_squared_error: 0.0453 - mean_absolute_error: 0.1190 - val_loss: 0.7684 - val_mean_squared_error: 0.7679 - val_mean_absolute_error: 0.4679\n",
            "Epoch 6/10\n",
            "85024/85024 - 23s - loss: 0.0327 - mean_squared_error: 0.0320 - mean_absolute_error: 0.0995 - val_loss: 0.7647 - val_mean_squared_error: 0.7642 - val_mean_absolute_error: 0.4577\n",
            "Epoch 7/10\n",
            "85024/85024 - 23s - loss: 0.0259 - mean_squared_error: 0.0253 - mean_absolute_error: 0.0887 - val_loss: 0.7755 - val_mean_squared_error: 0.7750 - val_mean_absolute_error: 0.4629\n",
            "Epoch 8/10\n",
            "85024/85024 - 23s - loss: 0.0223 - mean_squared_error: 0.0217 - mean_absolute_error: 0.0827 - val_loss: 0.7878 - val_mean_squared_error: 0.7873 - val_mean_absolute_error: 0.4623\n",
            "Epoch 9/10\n",
            "85024/85024 - 23s - loss: 0.0195 - mean_squared_error: 0.0189 - mean_absolute_error: 0.0760 - val_loss: 0.7771 - val_mean_squared_error: 0.7767 - val_mean_absolute_error: 0.4508\n",
            "Epoch 10/10\n",
            "85024/85024 - 23s - loss: 0.0183 - mean_squared_error: 0.0177 - mean_absolute_error: 0.0754 - val_loss: 0.7913 - val_mean_squared_error: 0.7909 - val_mean_absolute_error: 0.4703\n",
            "Elapsed time: 0:04:01.71\n"
          ],
          "name": "stdout"
        }
      ]
    },
    {
      "cell_type": "markdown",
      "metadata": {
        "id": "2LsZ51jJ9K3H",
        "colab_type": "text"
      },
      "source": [
        "### evaluate model"
      ]
    },
    {
      "cell_type": "code",
      "metadata": {
        "id": "1ecNYW1T9My_",
        "colab_type": "code",
        "colab": {}
      },
      "source": [
        "results = model.evaluate(X_test, y_test, verbose=1)\n",
        "print('test results:', results)"
      ],
      "execution_count": 0,
      "outputs": []
    },
    {
      "cell_type": "markdown",
      "metadata": {
        "id": "oJFsB4NkCZ87",
        "colab_type": "text"
      },
      "source": [
        "### plot metrics"
      ]
    },
    {
      "cell_type": "code",
      "metadata": {
        "id": "I7t6oh58-0Ap",
        "colab_type": "code",
        "colab": {}
      },
      "source": [
        "#plot training metrics\n",
        "plt.plot(history.history['loss'])\n",
        "plt.plot(history.history['val_loss'])\n",
        "plt.title('One-hot Encoding Loss Curves')\n",
        "plt.ylabel('loss')\n",
        "plt.xlabel('epoch')\n",
        "plt.legend(['training loss',\n",
        "            'validation loss'],\n",
        "            loc='upper right')\n",
        "plt.grid(b=True, which='major', color='#666666', linestyle='-')\n",
        "plt.minorticks_on()\n",
        "plt.grid(b=True, which='minor', color='#999999', linestyle='-', alpha=0.2)\n",
        "plt.show()"
      ],
      "execution_count": 0,
      "outputs": []
    },
    {
      "cell_type": "markdown",
      "metadata": {
        "id": "r_GvePdj2l-G",
        "colab_type": "text"
      },
      "source": [
        "### network layout"
      ]
    },
    {
      "cell_type": "code",
      "metadata": {
        "id": "FDdauvMg2oge",
        "colab_type": "code",
        "colab": {}
      },
      "source": [
        "from tensorflow.keras.utils import plot_model\n",
        "import pydot_ng as pydot\n",
        "\n",
        "plot_model(model,\n",
        "           show_shapes=True,\n",
        "           show_layer_names=True, \n",
        "           rankdir='TB')"
      ],
      "execution_count": 0,
      "outputs": []
    },
    {
      "cell_type": "code",
      "metadata": {
        "id": "CjkemBbh2qcF",
        "colab_type": "code",
        "colab": {}
      },
      "source": [
        "model.summary()"
      ],
      "execution_count": 0,
      "outputs": []
    },
    {
      "cell_type": "markdown",
      "metadata": {
        "id": "0ldp_j8N4sQS",
        "colab_type": "text"
      },
      "source": [
        "## Target encoding"
      ]
    },
    {
      "cell_type": "code",
      "metadata": {
        "id": "4EnVmJkvWT6s",
        "colab_type": "code",
        "colab": {}
      },
      "source": [
        "df.head()"
      ],
      "execution_count": 0,
      "outputs": []
    },
    {
      "cell_type": "code",
      "metadata": {
        "id": "fIMgr7y0UwN_",
        "colab_type": "code",
        "colab": {}
      },
      "source": [
        "encodable_columns = {'caller_id':'','sys_updated_by':'','location':'','category':'','subcategory':'','u_symptom':'',\n",
        "           'cmdb_ci':'','impact':'','urgency':'','priority':'','assignment_group':'','assigned_to':'',\n",
        "           'problem_id':'','vendor':'','resolved_by':''}\n",
        "\n",
        "for column_name in encodable_columns:\n",
        "  random_values = []\n",
        "  for column_value in df[column_name].values:\n",
        "    random_values.append(random()) \n",
        "  encodable_columns[column_name] = random_values\n",
        "    #how to calculate randoms? -> https://machinelearningmastery.com/how-to-generate-random-numbers-in-python/\n",
        "    #this is a new hyperparameter #we neeed a couple of runs, incl gaussian and sample\n",
        "  s = pd.Series(encodable_columns[column_name], name = f'{column_name}_te')\n",
        "  df = pd.concat([df,s],axis=1)\n",
        "  df.drop(column_name, axis=1, inplace=True)\n",
        "\n",
        "df.head()"
      ],
      "execution_count": 0,
      "outputs": []
    },
    {
      "cell_type": "code",
      "metadata": {
        "id": "fJuJY6XWDg-d",
        "colab_type": "code",
        "colab": {}
      },
      "source": [
        "# Source: https://maxhalford.github.io/blog/target-encoding-done-the-right-way/\n",
        "def calc_smooth_mean(df1, df2, cat_name, target, weight):\n",
        "    # Compute the global mean\n",
        "    mean = df[target].mean()\n",
        "\n",
        "    # Compute the number of values and the mean of each group\n",
        "    agg = df.groupby(cat_name)[target].agg(['count', 'mean'])\n",
        "    counts = agg['count']\n",
        "    means = agg['mean']\n",
        "\n",
        "    # Compute the \"smoothed\" means\n",
        "    smooth = (counts * means + weight * mean) / (counts + weight)\n",
        "\n",
        "    # Replace each value by the according smoothed mean\n",
        "    if df2 is None:\n",
        "        return df1[cat_name].map(smooth)\n",
        "    else:\n",
        "        return df1[cat_name].map(smooth),df2[cat_name].map(smooth.to_dict())"
      ],
      "execution_count": 0,
      "outputs": []
    },
    {
      "cell_type": "code",
      "metadata": {
        "id": "CzoecorODr0n",
        "colab_type": "code",
        "colab": {}
      },
      "source": [
        "WEIGHT = 5\n",
        "#lower - more overfitting\n",
        "#weights is a new hyperparameter It’s quite intuitive really: \n",
        "#you’re saying that you require that there must be at least 5 values for the sample mean to overtake the global mean. \n",
        "#itrt=0\n",
        "\n",
        "encodable_columns = {'caller_id_te':'','sys_updated_by_te':'','location_te':'','category_te':'','subcategory_te':'',\n",
        "                     'u_symptom_te':'','cmdb_ci_te':'','impact_te':'','urgency_te':'','priority_te':'',\n",
        "                     'assignment_group_te':'','assigned_to_te':'','problem_id_te':'','vendor_te':'','resolved_by_te':''}\n",
        "\n",
        "for column_name in encodable_columns:\n",
        "  df[column_name] = calc_smooth_mean(df1=df, df2=None, cat_name=column_name, target='case_duration', weight=WEIGHT)"
      ],
      "execution_count": 0,
      "outputs": []
    },
    {
      "cell_type": "code",
      "metadata": {
        "id": "UXrkTfHiVjDE",
        "colab_type": "code",
        "colab": {}
      },
      "source": [
        "WEIGHT = 100\n",
        "#lower - more overfitting\n",
        "#weights is a new hyperparameter It’s quite intuitive really: \n",
        "#you’re saying that you require that there must be at least 5 values for the sample mean to overtake the global mean. \n",
        "#itrt=0\n",
        "\n",
        "encodable_columns = {'caller_id':'','sys_updated_by':'','location':'','category':'','subcategory':'',\n",
        "                     'u_symptom':'','cmdb_ci':'','impact':'','urgency':'','priority':'',\n",
        "                     'assignment_group':'','assigned_to':'','problem_id':'','vendor':'','resolved_by':''}\n",
        "\n",
        "for column_name in encodable_columns:\n",
        "  df[column_name] = calc_smooth_mean(df1=df, df2=None, cat_name=column_name, target='case_duration', weight=WEIGHT)"
      ],
      "execution_count": 0,
      "outputs": []
    },
    {
      "cell_type": "code",
      "metadata": {
        "id": "pmNhRv-sYjhq",
        "colab_type": "code",
        "colab": {}
      },
      "source": [
        "df # it works"
      ],
      "execution_count": 0,
      "outputs": []
    },
    {
      "cell_type": "markdown",
      "metadata": {
        "id": "aIqLMGufYDKp",
        "colab_type": "text"
      },
      "source": [
        "### generate x and y - 20% split\n"
      ]
    },
    {
      "cell_type": "code",
      "metadata": {
        "id": "yndIXKL-XR1F",
        "colab_type": "code",
        "colab": {}
      },
      "source": [
        "target = ['case_duration']\n",
        "\n",
        "X_train, y_train = df.iloc[:85024][df.columns.difference(target)], df.iloc[:85024][target]\n",
        "X_val, y_val = df.iloc[85025:113366][df.columns.difference(target)], df.iloc[85025:113366][target]\n",
        "X_test, y_test = df.iloc[113366:][df.columns.difference(target)], df.iloc[113366:][target]\n",
        "X_train"
      ],
      "execution_count": 0,
      "outputs": []
    },
    {
      "cell_type": "markdown",
      "metadata": {
        "id": "dv1wP-ooGe6I",
        "colab_type": "text"
      },
      "source": [
        "### train model"
      ]
    },
    {
      "cell_type": "code",
      "metadata": {
        "id": "bLNSN0R5Gg65",
        "colab_type": "code",
        "colab": {}
      },
      "source": [
        "start_time = time.time()\n",
        "\n",
        "model = Sequential()\n",
        "model.add(Dense(20, input_dim=X_train.shape[1], activation='relu',activity_regularizer=l2(1e-3))) # Hidden 1\n",
        "model.add(Dense(10, activation='linear', activity_regularizer=l2(1e-3))) # Hidden 2\n",
        "model.add(Dense(1)) # Output\n",
        "model.compile(loss='mean_squared_error',\n",
        "              optimizer='adam',\n",
        "              metrics=['mean_squared_error',\n",
        "                       'mean_absolute_error'])\n",
        "\n",
        "history = model.fit(X_train,y_train,\n",
        "                    validation_data=(X_val,y_val),\n",
        "                    epochs = 10,\n",
        "                    batch_size = 512,\n",
        "                    verbose = 2)\n",
        "\n",
        "elapsed_time = time.time() - start_time\n",
        "print(\"Elapsed time: {}\".format(hms_string(elapsed_time)))"
      ],
      "execution_count": 0,
      "outputs": []
    },
    {
      "cell_type": "markdown",
      "metadata": {
        "id": "QIxu4r16dOoV",
        "colab_type": "text"
      },
      "source": [
        "### evaluate model"
      ]
    },
    {
      "cell_type": "code",
      "metadata": {
        "id": "CdNTKTEhccYD",
        "colab_type": "code",
        "colab": {}
      },
      "source": [
        "results = model.evaluate(X_test, y_test, verbose=1)\n",
        "results\n",
        "print('test loss, test acc:', results)"
      ],
      "execution_count": 0,
      "outputs": []
    },
    {
      "cell_type": "markdown",
      "metadata": {
        "id": "yRF5ZT7P9QMr",
        "colab_type": "text"
      },
      "source": [
        "### plot metrics"
      ]
    },
    {
      "cell_type": "code",
      "metadata": {
        "id": "x-wsXSru9SWW",
        "colab_type": "code",
        "colab": {}
      },
      "source": [
        "#plot training metrics\n",
        "plt.plot(history.history['loss'])\n",
        "plt.plot(history.history['val_loss'])\n",
        "plt.title('Target Encoding Loss Curves')\n",
        "plt.ylabel('loss')\n",
        "plt.xlabel('epoch')\n",
        "plt.legend(['training loss',\n",
        "            'validation loss'],\n",
        "            loc='upper right')\n",
        "plt.grid(b=True, which='major', color='#666666', linestyle='-')\n",
        "plt.minorticks_on()\n",
        "plt.grid(b=True, which='minor', color='#999999', linestyle='-', alpha=0.2)\n",
        "plt.show()"
      ],
      "execution_count": 0,
      "outputs": []
    },
    {
      "cell_type": "code",
      "metadata": {
        "id": "EoQihHMNr-rp",
        "colab_type": "code",
        "colab": {}
      },
      "source": [
        "plot_model(model, to_file='model.png',expand_nested=True,show_shapes=True)"
      ],
      "execution_count": 0,
      "outputs": []
    },
    {
      "cell_type": "markdown",
      "metadata": {
        "colab_type": "text",
        "id": "dgu1xxtnCkse"
      },
      "source": [
        "### network layout"
      ]
    },
    {
      "cell_type": "code",
      "metadata": {
        "id": "7iEaRTjYMmEH",
        "colab_type": "code",
        "colab": {}
      },
      "source": [
        "from tensorflow.keras.utils import plot_model\n",
        "import pydot_ng as pydot\n",
        "\n",
        "plot_model(model,\n",
        "           show_shapes=True,\n",
        "           show_layer_names=True, \n",
        "           rankdir='TB')"
      ],
      "execution_count": 0,
      "outputs": []
    },
    {
      "cell_type": "code",
      "metadata": {
        "id": "Lf59q0vENd4_",
        "colab_type": "code",
        "colab": {}
      },
      "source": [
        "model.summary()"
      ],
      "execution_count": 0,
      "outputs": []
    },
    {
      "cell_type": "markdown",
      "metadata": {
        "id": "z118Z_hbGCd7",
        "colab_type": "text"
      },
      "source": [
        "## Binary encoding\n",
        "https://towardsdatascience.com/all-about-categorical-variable-encoding-305f3361fd02\n",
        "\n",
        "Two types of categorical variables: nominal and ordinal.\n",
        "We can argue that all of our categorical variables are in fact nominal."
      ]
    },
    {
      "cell_type": "code",
      "metadata": {
        "id": "XzFYeeGumebg",
        "colab_type": "code",
        "colab": {}
      },
      "source": [
        "pip install category_encoders"
      ],
      "execution_count": 0,
      "outputs": []
    },
    {
      "cell_type": "code",
      "metadata": {
        "id": "xF8nkfI-kqSv",
        "colab_type": "code",
        "colab": {}
      },
      "source": [
        "import category_encoders as ce\n",
        "\n",
        "df_ce = df.copy()\n",
        "\n",
        "bec = ['caller_id','sys_updated_by','location','category','subcategory','u_symptom','cmdb_ci',\n",
        "       'impact','urgency','priority','assignment_group','assigned_to', 'problem_id','vendor',\n",
        "       'resolved_by']\n",
        "\n",
        "encoder = ce.BinaryEncoder(cols=bec)\n",
        "df_binary = encoder.fit_transform(df_ce)\n",
        "\n",
        "df_binary.head() #works -> 122 columns, much less than dummy encoding"
      ],
      "execution_count": 0,
      "outputs": []
    },
    {
      "cell_type": "markdown",
      "metadata": {
        "id": "iA6y149x14RH",
        "colab_type": "text"
      },
      "source": [
        "### generate x and y"
      ]
    },
    {
      "cell_type": "code",
      "metadata": {
        "id": "gIz1VyVz17pk",
        "colab_type": "code",
        "colab": {}
      },
      "source": [
        "target = ['case_duration']\n",
        "\n",
        "X_train, y_train = df_binary.iloc[:85024][df_binary.columns.difference(target)], df_binary.iloc[:85024][target]\n",
        "X_val, y_val = df_binary.iloc[85025:113366][df_binary.columns.difference(target)], df_binary.iloc[85025:113366][target]\n",
        "X_test, y_test = df_binary.iloc[113366:][df_binary.columns.difference(target)], df_binary.iloc[113366:][target]\n",
        "X_test"
      ],
      "execution_count": 0,
      "outputs": []
    },
    {
      "cell_type": "markdown",
      "metadata": {
        "id": "aG1gfMXn1_cC",
        "colab_type": "text"
      },
      "source": [
        "### train model"
      ]
    },
    {
      "cell_type": "code",
      "metadata": {
        "id": "UoyAlq0x2BAR",
        "colab_type": "code",
        "colab": {}
      },
      "source": [
        "start_time = time.time()\n",
        "\n",
        "model = Sequential()\n",
        "model.add(Dense(20, input_dim=X_train.shape[1], activation='relu',activity_regularizer=l2(1e-3))) # Hidden 1\n",
        "model.add(Dense(10, activation='linear', activity_regularizer=l2(1e-3))) # Hidden 2\n",
        "model.add(Dense(1)) # Output\n",
        "model.compile(loss='mean_squared_error',\n",
        "              optimizer='adam',\n",
        "              metrics=['mean_squared_error',\n",
        "                       'mean_absolute_error'])\n",
        "\n",
        "history = model.fit(X_train,y_train,\n",
        "                    validation_data=(X_val,y_val),\n",
        "                    epochs = 100,\n",
        "                    batch_size = 512,\n",
        "                    verbose = 2)\n",
        "\n",
        "elapsed_time = time.time() - start_time\n",
        "print(\"Elapsed time: {}\".format(hms_string(elapsed_time)))"
      ],
      "execution_count": 0,
      "outputs": []
    },
    {
      "cell_type": "markdown",
      "metadata": {
        "id": "fg4b4zG5hNAW",
        "colab_type": "text"
      },
      "source": [
        "### evaluate model"
      ]
    },
    {
      "cell_type": "code",
      "metadata": {
        "id": "pKcb1tk1hNTM",
        "colab_type": "code",
        "colab": {}
      },
      "source": [
        "results = model.evaluate(X_test, y_test, verbose=1)\n",
        "results\n",
        "print('test loss, test acc:', results)"
      ],
      "execution_count": 0,
      "outputs": []
    },
    {
      "cell_type": "markdown",
      "metadata": {
        "id": "EOgfavHI4MCv",
        "colab_type": "text"
      },
      "source": [
        "### plot metrics"
      ]
    },
    {
      "cell_type": "code",
      "metadata": {
        "id": "Buz8wkRj4OBg",
        "colab_type": "code",
        "colab": {}
      },
      "source": [
        "#plot training metrics\n",
        "plt.plot(history.history['loss'])\n",
        "plt.plot(history.history['val_loss'])\n",
        "plt.title('Binary Encoding Loss Curves')\n",
        "plt.ylabel('loss')\n",
        "plt.xlabel('epoch')\n",
        "plt.legend(['training loss',\n",
        "            'validation loss'],\n",
        "            loc='upper right')\n",
        "plt.grid(b=True, which='major', color='#666666', linestyle='-')\n",
        "plt.minorticks_on()\n",
        "plt.grid(b=True, which='minor', color='#999999', linestyle='-', alpha=0.2)\n",
        "plt.show()"
      ],
      "execution_count": 0,
      "outputs": []
    },
    {
      "cell_type": "markdown",
      "metadata": {
        "id": "mi3iUeEGio2b",
        "colab_type": "text"
      },
      "source": [
        "### network layout"
      ]
    },
    {
      "cell_type": "code",
      "metadata": {
        "id": "XwjrGXvlipMm",
        "colab_type": "code",
        "colab": {}
      },
      "source": [
        "from tensorflow.keras.utils import plot_model\n",
        "import pydot_ng as pydot\n",
        "\n",
        "plot_model(model,\n",
        "           show_shapes=True,\n",
        "           show_layer_names=True, \n",
        "           rankdir='TB')"
      ],
      "execution_count": 0,
      "outputs": []
    },
    {
      "cell_type": "code",
      "metadata": {
        "id": "vX2ZsrU6z-9n",
        "colab_type": "code",
        "colab": {}
      },
      "source": [
        "model.summary()"
      ],
      "execution_count": 0,
      "outputs": []
    },
    {
      "cell_type": "markdown",
      "metadata": {
        "id": "eBUzygcmC3yH",
        "colab_type": "text"
      },
      "source": [
        "#### feature encoding log scale"
      ]
    },
    {
      "cell_type": "code",
      "metadata": {
        "id": "e6INbLMxeYO8",
        "colab_type": "code",
        "colab": {}
      },
      "source": [
        "X = np.linspace(10, 100, 10)\n",
        "\n",
        "plt.yscale('log')\n",
        "\n",
        "plt.plot(X, np.log2(X), c = 'black', lw = 1., label = r'$F_C=\\log_2(|C_{category}|)$')\n",
        "plt.grid(b=True, which='major', color='#666666', linestyle='-')\n",
        "plt.minorticks_on()\n",
        "plt.grid(b=True, which='minor', color='#999999', linestyle='-', alpha=0.2)\n",
        "\n",
        "xi = 59\n",
        "yi = np.log2(xi)\n",
        "plt.scatter(xi,yi, color='red')\n",
        "\n",
        "plt.legend()\n",
        "plt.show()"
      ],
      "execution_count": 0,
      "outputs": []
    },
    {
      "cell_type": "markdown",
      "metadata": {
        "id": "U6evR-9f3p50",
        "colab_type": "text"
      },
      "source": [
        "##Hashing encoding  \n",
        "https://towardsdatascience.com/smarter-ways-to-encode-categorical-data-for-machine-learning-part-1-of-3-6dca2f71b159\n",
        "\n",
        "https://alex.smola.org/papers/2009/Weinbergeretal09.pdf"
      ]
    },
    {
      "cell_type": "code",
      "metadata": {
        "id": "m_JhwWEoDd53",
        "colab_type": "code",
        "colab": {}
      },
      "source": [
        "pip install category_encoders"
      ],
      "execution_count": 0,
      "outputs": []
    },
    {
      "cell_type": "code",
      "metadata": {
        "id": "5C9i3uqQmCZB",
        "colab_type": "code",
        "colab": {}
      },
      "source": [
        "import category_encoders as ce\n",
        "\n",
        "df_ce = df.copy()\n",
        "\n",
        "hec = ['caller_id','sys_updated_by','location','category','subcategory','u_symptom','cmdb_ci',\n",
        "       'impact','urgency','priority','assignment_group','assigned_to', 'problem_id','vendor',\n",
        "       'resolved_by']\n",
        "\n",
        "#encoder = ce.HashingEncoder(cols=hec, verbose=1, hash_method='sha256', n_components=15) \n",
        "df_hashing = ce.HashingEncoder.hashing_trick(df_ce,hashing_method='sha256', N=50, cols=hec, make_copy=False)\n",
        "\n",
        "#uses MD5 by default\n",
        "#n_components = 8 by defaults, set to 15 for all columns\n",
        "#source code http://contrib.scikit-learn.org/categorical-encoding/_modules/category_encoders/hashing.html"
      ],
      "execution_count": 0,
      "outputs": []
    },
    {
      "cell_type": "code",
      "metadata": {
        "id": "dUe0Yn1QD2pD",
        "colab_type": "code",
        "colab": {}
      },
      "source": [
        "df_hashing.shape"
      ],
      "execution_count": 0,
      "outputs": []
    },
    {
      "cell_type": "markdown",
      "metadata": {
        "id": "YZH9xPb_NU7y",
        "colab_type": "text"
      },
      "source": [
        "##### normalize"
      ]
    },
    {
      "cell_type": "code",
      "metadata": {
        "id": "7crJOof6ylVj",
        "colab_type": "code",
        "colab": {}
      },
      "source": [
        "for i in range(0,15):\n",
        "  df_hashing[f'col_{i}'] = zscore(df_hashing[f'col_{i}']) \n",
        "df_hashing.iloc[:5,:]\n",
        "#normalizing the encoded values penalized the model"
      ],
      "execution_count": 0,
      "outputs": []
    },
    {
      "cell_type": "code",
      "metadata": {
        "id": "JRpY7p0L7VKz",
        "colab_type": "code",
        "colab": {}
      },
      "source": [
        "df_hashing.shape"
      ],
      "execution_count": 0,
      "outputs": []
    },
    {
      "cell_type": "markdown",
      "metadata": {
        "id": "aVSZpoTxmJGr",
        "colab_type": "text"
      },
      "source": [
        "### generate x and y"
      ]
    },
    {
      "cell_type": "code",
      "metadata": {
        "id": "KJcMqDpKuHcS",
        "colab_type": "code",
        "colab": {}
      },
      "source": [
        "target = ['case_duration']\n",
        "\n",
        "X_train, y_train = df_hashing.iloc[:85024][df_hashing.columns.difference(target)], df_hashing.iloc[:85024][target]\n",
        "X_val, y_val = df_hashing.iloc[85025:113366][df_hashing.columns.difference(target)], df_hashing.iloc[85025:113366][target]\n",
        "X_test, y_test = df_hashing.iloc[113366:][df_hashing.columns.difference(target)], df_hashing.iloc[113366:][target]\n",
        "X_test"
      ],
      "execution_count": 0,
      "outputs": []
    },
    {
      "cell_type": "markdown",
      "metadata": {
        "id": "72C3kNqDmNUB",
        "colab_type": "text"
      },
      "source": [
        "### train model"
      ]
    },
    {
      "cell_type": "code",
      "metadata": {
        "id": "zvP8qQUWuPda",
        "colab_type": "code",
        "colab": {}
      },
      "source": [
        "import time\n",
        "import matplotlib.pyplot as plt\n",
        "from keras.regularizers import l1,l2\n",
        "\n",
        "start_time = time.time()\n",
        "\n",
        "model = Sequential()\n",
        "model.add(Dense(20, input_dim=X_train.shape[1], activation='relu',activity_regularizer=l2(1e-3))) # Hidden 1\n",
        "model.add(Dense(10, activation='linear', activity_regularizer=l2(1e-3))) # Hidden 2\n",
        "model.add(Dense(1)) # Output\n",
        "model.compile(loss='mean_squared_error',\n",
        "              optimizer='adam',\n",
        "              metrics=['mean_squared_error',\n",
        "                       'mean_absolute_error'])\n",
        "\n",
        "history = model.fit(X_train,y_train,\n",
        "                    validation_data=(X_val,y_val),\n",
        "                    epochs = 100,\n",
        "                    batch_size = 512,\n",
        "                    verbose = 2)\n",
        "\n",
        "elapsed_time = time.time() - start_time\n",
        "print(\"Elapsed time: {}\".format(hms_string(elapsed_time)))"
      ],
      "execution_count": 0,
      "outputs": []
    },
    {
      "cell_type": "markdown",
      "metadata": {
        "id": "LDNEytOtCnfw",
        "colab_type": "text"
      },
      "source": [
        "### evaluate model"
      ]
    },
    {
      "cell_type": "code",
      "metadata": {
        "id": "XChGd4pECn1T",
        "colab_type": "code",
        "colab": {}
      },
      "source": [
        "results = model.evaluate(X_test, y_test, verbose=1)\n",
        "results\n",
        "print('test loss, test acc:', results)"
      ],
      "execution_count": 0,
      "outputs": []
    },
    {
      "cell_type": "markdown",
      "metadata": {
        "id": "5-rcBNDaCs0D",
        "colab_type": "text"
      },
      "source": [
        "### plot metrics"
      ]
    },
    {
      "cell_type": "code",
      "metadata": {
        "id": "IyqT3lsNCvCV",
        "colab_type": "code",
        "colab": {}
      },
      "source": [
        "#plot training metrics\n",
        "plt.plot(history.history['loss'])\n",
        "plt.plot(history.history['val_loss'])\n",
        "plt.title('Hashing Encoding Loss Curves')\n",
        "plt.ylabel('loss')\n",
        "plt.xlabel('epoch')\n",
        "plt.legend(['training loss',\n",
        "            'validation loss'],\n",
        "            loc='upper right')\n",
        "plt.grid(b=True, which='major', color='#666666', linestyle='-')\n",
        "plt.minorticks_on()\n",
        "plt.grid(b=True, which='minor', color='#999999', linestyle='-', alpha=0.2)\n",
        "plt.show()"
      ],
      "execution_count": 0,
      "outputs": []
    },
    {
      "cell_type": "markdown",
      "metadata": {
        "id": "W9KFlXTNC9Hi",
        "colab_type": "text"
      },
      "source": [
        "### network layout"
      ]
    },
    {
      "cell_type": "code",
      "metadata": {
        "id": "iZMMGjd9DA5-",
        "colab_type": "code",
        "colab": {}
      },
      "source": [
        "from tensorflow.keras.utils import plot_model\n",
        "import pydot_ng as pydot\n",
        "\n",
        "plot_model(model,\n",
        "           show_shapes=True,\n",
        "           show_layer_names=True, \n",
        "           rankdir='TB')"
      ],
      "execution_count": 0,
      "outputs": []
    },
    {
      "cell_type": "code",
      "metadata": {
        "id": "LuUXHFNADEEN",
        "colab_type": "code",
        "colab": {}
      },
      "source": [
        "model.summary()"
      ],
      "execution_count": 0,
      "outputs": []
    },
    {
      "cell_type": "markdown",
      "metadata": {
        "id": "T8vjzxWrTF91",
        "colab_type": "text"
      },
      "source": [
        "## Entity embeddings"
      ]
    },
    {
      "cell_type": "code",
      "metadata": {
        "id": "9Nq_jALLTN0_",
        "colab_type": "code",
        "colab": {}
      },
      "source": [
        "https://github.com/mmortazavi/EntityEmbedding-Working_Example/blob/master/EntityEmbedding.ipynb\n",
        "\n",
        "https://github.com/mayanksatnalika/ipython/blob/master/embeddings%20project/cycle_sharing/entity_embeddings_regression.ipynb\n",
        "\n",
        "https://machinelearningmastery.com/use-word-embedding-layers-deep-learning-keras/\n",
        "\n",
        "https://developers.google.com/machine-learning/crash-course/embeddings/video-lecture\n",
        "\n",
        "https://medium.com/@davidheffernan_99410/an-introduction-to-using-categorical-embeddings-ee686ed7e7f9\n",
        "\n",
        "https://towardsdatascience.com/deep-learning-structured-data-8d6a278f3088\n",
        "\n",
        "https://github.com/entron/entity-embedding-rossmann/blob/master/plot_embeddings.ipynb"
      ],
      "execution_count": 0,
      "outputs": []
    },
    {
      "cell_type": "markdown",
      "metadata": {
        "id": "wJ-9lGpXJDPQ",
        "colab_type": "text"
      },
      "source": [
        "### feature cardinality"
      ]
    },
    {
      "cell_type": "code",
      "metadata": {
        "id": "a_BfQ3b4HZE3",
        "colab_type": "code",
        "colab": {}
      },
      "source": [
        "embed_cols=[i for i in df.select_dtypes(include=['object'])]\n",
        "\n",
        "for i in embed_cols:\n",
        "    print(i,df[i].nunique())"
      ],
      "execution_count": 0,
      "outputs": []
    },
    {
      "cell_type": "markdown",
      "metadata": {
        "id": "T-9wYE1HJSwA",
        "colab_type": "text"
      },
      "source": [
        "### Categorical Features To List Format\n",
        "\n",
        "We have to convert data to list format to match the network structure.\n",
        "\n",
        "The following function takes the list of categorical features, and prepare such lists for the NN input."
      ]
    },
    {
      "cell_type": "markdown",
      "metadata": {
        "id": "HlBeGm7KJya6",
        "colab_type": "text"
      },
      "source": [
        "#### data split"
      ]
    },
    {
      "cell_type": "code",
      "metadata": {
        "id": "6mm4JoV_JwLk",
        "colab_type": "code",
        "colab": {}
      },
      "source": [
        "categorical_features = ['caller_id','sys_updated_by','location','category','subcategory',\n",
        "                        'u_symptom','cmdb_ci','impact','urgency','priority','assignment_group',\n",
        "                        'assigned_to', 'problem_id','vendor','resolved_by']\n",
        "\n",
        "\n",
        "target = ['case_duration']\n",
        "\n",
        "X_train, y_train = df.iloc[:85024][df.columns.difference(['case_duration'])], df.iloc[:85024][target]\n",
        "X_val, y_val = df.iloc[85025:113366][df.columns.difference(['case_duration'])], df.iloc[85025:113366][target]\n",
        "X_test, y_test = df.iloc[113366:][df.columns.difference(['case_duration'])], df.iloc[113366:][target]\n",
        "X_test"
      ],
      "execution_count": 0,
      "outputs": []
    },
    {
      "cell_type": "code",
      "metadata": {
        "id": "_Oq8q5TFTl-n",
        "colab_type": "code",
        "outputId": "7fa30c85-5ac8-4fb4-c0c9-772afb63bbe9",
        "colab": {
          "base_uri": "https://localhost:8080/",
          "height": 34
        }
      },
      "source": [
        "X_train.shape"
      ],
      "execution_count": 0,
      "outputs": [
        {
          "output_type": "execute_result",
          "data": {
            "text/plain": [
              "(85024, 20)"
            ]
          },
          "metadata": {
            "tags": []
          },
          "execution_count": 12
        }
      ]
    },
    {
      "cell_type": "code",
      "metadata": {
        "id": "_y3WOmobJCrb",
        "colab_type": "code",
        "colab": {}
      },
      "source": [
        "embed_cols=[i for i in X_train.select_dtypes(include=['object'])]\n",
        "\n",
        "#converting data to list format to match the network structure\n",
        "def preproc(X_train, X_val, X_test):\n",
        "\n",
        "    input_list_train = []\n",
        "    input_list_val = []\n",
        "    input_list_test = []\n",
        "    \n",
        "    #the cols to be embedded: rescaling to range [0, # values)\n",
        "    for c in embed_cols:\n",
        "        raw_vals = np.unique(X_train[c])\n",
        "        val_map = {}\n",
        "        for i in range(len(raw_vals)):\n",
        "            val_map[raw_vals[i]] = i       \n",
        "        input_list_train.append(X_train[c].map(val_map).values)\n",
        "        input_list_val.append(X_val[c].map(val_map).fillna(0).values)\n",
        "        input_list_test.append(X_test[c].map(val_map).fillna(0).values)\n",
        "     \n",
        "    #the rest of the columns\n",
        "    other_cols = [c for c in X_train.columns if (not c in embed_cols)]\n",
        "    input_list_train.append(X_train[other_cols].values)\n",
        "    input_list_val.append(X_val[other_cols].values)\n",
        "    input_list_test.append(X_test[other_cols].values)\n",
        "    \n",
        "    return input_list_train, input_list_val, input_list_test"
      ],
      "execution_count": 0,
      "outputs": []
    },
    {
      "cell_type": "markdown",
      "metadata": {
        "id": "Xtq452HOOupB",
        "colab_type": "text"
      },
      "source": [
        "### Embedding dimension (hyperparameter)"
      ]
    },
    {
      "cell_type": "code",
      "metadata": {
        "id": "UVzCmQJSOu7p",
        "colab_type": "code",
        "colab": {}
      },
      "source": [
        "for categorical_var in X_train.select_dtypes(include=['object']):\n",
        "    \n",
        "    cat_emb_name= categorical_var.replace(\" \", \"\")+'_Embedding'\n",
        "  \n",
        "    no_of_unique_cat  = X_train[categorical_var].nunique()\n",
        "    embedding_size = int(min(np.ceil((no_of_unique_cat)/2), 50 ))\n",
        "  \n",
        "    print('Categorical Variable:', categorical_var,\n",
        "        'Unique Categories:', no_of_unique_cat,\n",
        "        'Embedding Size:', embedding_size)"
      ],
      "execution_count": 0,
      "outputs": []
    },
    {
      "cell_type": "code",
      "metadata": {
        "id": "mFR__XSpRAm8",
        "colab_type": "code",
        "colab": {}
      },
      "source": [
        "for categorical_var in X_train.select_dtypes(include=['object']):\n",
        "    \n",
        "    input_name= 'Input_' + categorical_var.replace(\" \", \"\")\n",
        "    print(input_name)"
      ],
      "execution_count": 0,
      "outputs": []
    },
    {
      "cell_type": "code",
      "metadata": {
        "id": "rVXu7g39ReVF",
        "colab_type": "code",
        "colab": {}
      },
      "source": [
        "input_models=[]\n",
        "output_embeddings=[]\n",
        "numerics = ['int16', 'int32', 'int64', 'float16', 'float32', 'float64']\n",
        "\n",
        "for categorical_var in X_train.select_dtypes(include=['object']):\n",
        "    \n",
        "    #Name of the categorical variable that will be used in the Keras Embedding layer\n",
        "    cat_emb_name= categorical_var.replace(\" \", \"\")+'_Embedding'\n",
        "  \n",
        "    # Define the embedding_size\n",
        "    no_of_unique_cat  = X_train[categorical_var].nunique()\n",
        "    embedding_size = int(min(np.ceil((no_of_unique_cat)/2), 100))\n",
        "  \n",
        "    #One Embedding Layer for each categorical variable\n",
        "    input_model = Input(shape=(1,))\n",
        "    output_model = Embedding(no_of_unique_cat, embedding_size, name=cat_emb_name)(input_model)\n",
        "    output_model = Reshape(target_shape=(embedding_size,))(output_model)    \n",
        "  \n",
        "    #Appending all the categorical inputs\n",
        "    input_models.append(input_model)\n",
        "  \n",
        "    #Appending all the embeddings\n",
        "    output_embeddings.append(output_model)\n",
        "  \n",
        "#Other non-categorical data columns (numerical). \n",
        "#I define single another network for the other columns and add them to our models list.\n",
        "input_numeric = Input(shape=(len(X_train.select_dtypes(include=numerics).columns.tolist()),))\n",
        "embedding_numeric = Dense(128)(input_numeric) \n",
        "input_models.append(input_numeric)\n",
        "output_embeddings.append(embedding_numeric)\n",
        "\n",
        "#At the end we concatenate altogther and add other Dense layers\n",
        "output = Concatenate()(output_embeddings)\n",
        "output = Dense(1000, kernel_initializer=\"uniform\")(output)\n",
        "output = Activation('relu')(output)\n",
        "output= Dropout(0.4)(output)\n",
        "output = Dense(512, kernel_initializer=\"uniform\")(output)\n",
        "output = Activation('relu')(output)\n",
        "output= Dropout(0.3)(output)\n",
        "output = Dense(1, activation='linear')(output)\n",
        "\n",
        "model = Model(inputs=input_models, outputs=output)\n",
        "model.compile(loss='mean_squared_error', optimizer='Adam',metrics=['mse','mae'])"
      ],
      "execution_count": 0,
      "outputs": []
    },
    {
      "cell_type": "markdown",
      "metadata": {
        "id": "gKJYwZyAT_By",
        "colab_type": "text"
      },
      "source": [
        "### Network architecture"
      ]
    },
    {
      "cell_type": "code",
      "metadata": {
        "id": "YqNusDUlUK3O",
        "colab_type": "code",
        "colab": {}
      },
      "source": [
        "plot_model(model, show_shapes=True, show_layer_names=True, to_file='model.png')\n",
        "from IPython.display import Image\n",
        "Image(retina=True, filename='model.png')"
      ],
      "execution_count": 0,
      "outputs": []
    },
    {
      "cell_type": "code",
      "metadata": {
        "id": "cBTIUczHUXJz",
        "colab_type": "code",
        "colab": {}
      },
      "source": [
        "model.summary()"
      ],
      "execution_count": 0,
      "outputs": []
    },
    {
      "cell_type": "markdown",
      "metadata": {
        "id": "ahL00eZYUhob",
        "colab_type": "text"
      },
      "source": [
        "### Training"
      ]
    },
    {
      "cell_type": "code",
      "metadata": {
        "id": "WPVWN5ohUjeh",
        "colab_type": "code",
        "colab": {}
      },
      "source": [
        "X_train_list,X_val_list,X_test_list = preproc(X_train, X_val, X_test)"
      ],
      "execution_count": 0,
      "outputs": []
    },
    {
      "cell_type": "code",
      "metadata": {
        "id": "GTMBtEzFawmd",
        "colab_type": "code",
        "colab": {}
      },
      "source": [
        "X_train_list"
      ],
      "execution_count": 0,
      "outputs": []
    },
    {
      "cell_type": "code",
      "metadata": {
        "id": "794F8XyzUl_m",
        "colab_type": "code",
        "colab": {}
      },
      "source": [
        "start_time = time.time()\n",
        "\n",
        "history  =  model.fit(X_train_list,y_train,validation_data=(X_val_list,y_val), epochs = 100, batch_size = 512, verbose = 2)\n",
        "\n",
        "elapsed_time = time.time() - start_time\n",
        "print(\"Elapsed time: {}\".format(hms_string(elapsed_time)))"
      ],
      "execution_count": 0,
      "outputs": []
    },
    {
      "cell_type": "markdown",
      "metadata": {
        "id": "d068bHg_EH62",
        "colab_type": "text"
      },
      "source": [
        "### evaluate model"
      ]
    },
    {
      "cell_type": "code",
      "metadata": {
        "id": "N4eFKQLJEN4Q",
        "colab_type": "code",
        "colab": {}
      },
      "source": [
        "results = model.evaluate(X_test_list, y_test, verbose=1)\n",
        "results\n",
        "print('test loss, test acc:', results)"
      ],
      "execution_count": 0,
      "outputs": []
    },
    {
      "cell_type": "markdown",
      "metadata": {
        "id": "hfVK2wUSFP6Y",
        "colab_type": "text"
      },
      "source": [
        "### Metrics"
      ]
    },
    {
      "cell_type": "code",
      "metadata": {
        "id": "UDJ8cYEuFktF",
        "colab_type": "code",
        "colab": {}
      },
      "source": [
        "#plot training metrics\n",
        "plt.plot(history.history['loss'])\n",
        "plt.plot(history.history['val_loss'])\n",
        "plt.title('Entity Embedding Loss Curves')\n",
        "plt.ylabel('loss')\n",
        "plt.xlabel('epoch')\n",
        "plt.legend(['training loss',\n",
        "            'validation loss'],\n",
        "            loc='upper right')\n",
        "plt.grid(b=True, which='major', color='#666666', linestyle='-')\n",
        "plt.minorticks_on()\n",
        "plt.grid(b=True, which='minor', color='#999999', linestyle='-', alpha=0.2)\n",
        "plt.show()"
      ],
      "execution_count": 0,
      "outputs": []
    },
    {
      "cell_type": "markdown",
      "metadata": {
        "id": "e2GQ645kgXRw",
        "colab_type": "text"
      },
      "source": [
        "## Orthogonal polynomial coding"
      ]
    },
    {
      "cell_type": "code",
      "metadata": {
        "id": "CE8Jz8LKgfRZ",
        "colab_type": "code",
        "colab": {}
      },
      "source": [
        "https://contrib.scikit-learn.org/categorical-encoding/polynomial.html"
      ],
      "execution_count": 0,
      "outputs": []
    },
    {
      "cell_type": "markdown",
      "metadata": {
        "id": "KI6NS-QwgF7f",
        "colab_type": "text"
      },
      "source": [
        "# final metrics"
      ]
    },
    {
      "cell_type": "markdown",
      "metadata": {
        "id": "eH6_SDq3VR9x",
        "colab_type": "text"
      },
      "source": [
        "## overall loss values"
      ]
    },
    {
      "cell_type": "markdown",
      "metadata": {
        "id": "BGwNb1rIlUoo",
        "colab_type": "text"
      },
      "source": [
        "#### define df"
      ]
    },
    {
      "cell_type": "code",
      "metadata": {
        "id": "x3bbQQ-3gU--",
        "colab_type": "code",
        "colab": {}
      },
      "source": [
        "encoding = ['one-hot I','one-hot II','target I w=5','target II w-5','target I w-100','target II w-100',\n",
        "'binary I','binary II','hashing I - default','hashing II - default','hashing III - default','hashing IV - default',\n",
        "'hashing I - normalized','hashing II - normalized','hashing III - normalized','hashing IV - normalized',\n",
        "'embeddings I - e-50','embeddings II - e-100','embeddings III - e-50','embeddings IV - e-100']\n",
        "train_loss = [0.0177,0.0042,0.3865,0.2962,0.4363,0.3390,0.5168,0.2635,0.9817,0.8860,0.6940,0.4882,0.9985,\n",
        "              0.9178,0.6920,0.4633,0.0356,0.0103,0.0334,0.0108,]\n",
        "val_loss = [0.7949,0.8776,0.4237,0.4772,0.4520,0.4236,0.7240,0.9362,0.8485,0.8525,0.7553,0.8556,0.8753,\n",
        "            0.8643,0.7426,0.8459,0.8856,0.9805,0.8171,0.8828]\n",
        "test_loss = [1.0902,1.2711,0.5366,0.5618,0.6064,0.6708,0.7429,1.6971,0.7306,0.7331,0.7360,0.8511,0.7538,\n",
        "            0.7419,0.7642,0.8517,1.1423,1.2280,1.0170,1.1383]\n",
        "\n",
        "df_final = pd.DataFrame({'training loss': train_loss,\n",
        "                         'validation loss': val_loss,\n",
        "                         'test loss': test_loss},\n",
        "                           index=encoding)"
      ],
      "execution_count": 0,
      "outputs": []
    },
    {
      "cell_type": "code",
      "metadata": {
        "id": "mfI1Nkr-k5XC",
        "colab_type": "code",
        "outputId": "8f5e44fc-38d4-4bc1-f01a-fdd34009fcf8",
        "colab": {
          "base_uri": "https://localhost:8080/",
          "height": 737
        }
      },
      "source": [
        "ax = df_final.sort_values(by=['test loss','training loss'],ascending=[False, False]).plot.barh(figsize=(12,12),\n",
        "                                                                                               width=0.80)\n",
        "#ax.tick_params(axis=\"both\", which=\"both\", bottom=\"on\", top=\"off\", labelbottom=\"on\", left=\"off\", right=\"off\", labelleft=\"on\")\n",
        "\n",
        "vals = ax.get_xticks()\n",
        "for tick in vals:\n",
        "  ax.axvline(x=tick, linestyle='solid', alpha=0.2, color='#eeeeee', zorder=1)\n",
        "\n",
        "ax.set_xlabel(\"MSE\", labelpad=10, weight='bold', size=11)\n",
        "\n",
        "ax.set_ylabel(\"Encoding method\", labelpad=10, weight='bold', size=11)"
      ],
      "execution_count": 0,
      "outputs": [
        {
          "output_type": "execute_result",
          "data": {
            "text/plain": [
              "Text(0, 0.5, 'Encoding method')"
            ]
          },
          "metadata": {
            "tags": []
          },
          "execution_count": 5
        },
        {
          "output_type": "display_data",
          "data": {
            "image/png": "[encoded data removed]",
            "text/plain": [
              "<Figure size 864x864 with 1 Axes>"
            ]
          },
          "metadata": {
            "tags": []
          }
        }
      ]
    },
    {
      "cell_type": "markdown",
      "metadata": {
        "id": "hmkEvMs-VWYl",
        "colab_type": "text"
      },
      "source": [
        "## delta Gl"
      ]
    },
    {
      "cell_type": "code",
      "metadata": {
        "id": "0OzkLP92VblO",
        "colab_type": "code",
        "outputId": "d2605b17-1410-4fe8-96dc-d631a3139549",
        "colab": {
          "base_uri": "https://localhost:8080/",
          "height": 737
        }
      },
      "source": [
        "encoding = ['one-hot I','one-hot II','target I w=5','target II w-5','target I w-100','target II w-100',\n",
        "'binary I','binary II','hashing I - default','hashing II - default','hashing III - default','hashing IV - default',\n",
        "'hashing I - normalized','hashing II - normalized','hashing III - normalized','hashing IV - normalized',\n",
        "'embeddings I - e-50','embeddings II - e-100','embeddings III - e-50','embeddings IV - e-100']\n",
        "\n",
        "delta_Gl = [0.7777, 0.8741, 0.0464, 0.1839, 0.0225, 0.0874, 0.2096, 0.6739, -0.1268, -0.0315, 0.0663, 0.3685, -0.1165,\n",
        "            -0.0516,0.0545, 0.3834, 0.8500, 0.9702, 0.7837, 0.8720]\n",
        "\n",
        "df_Gl = pd.DataFrame({'ΔGl': delta_Gl},\n",
        "                      index=encoding)\n",
        "\n",
        "ax = df_Gl.sort_values(by=['ΔGl'],ascending=[False]).plot.barh(figsize=(12,12),width=0.80)\n",
        "\n",
        "vals = ax.get_xticks()\n",
        "for tick in vals:\n",
        "  ax.axvline(x=tick, linestyle='solid', alpha=0.2, color='#eeeeee', zorder=1)\n",
        "\n",
        "ax.set_xlabel(\"ΔGl\", labelpad=10, weight='bold', size=11)\n",
        "\n",
        "ax.set_ylabel(\"Encoding method\", labelpad=10, weight='bold', size=11)"
      ],
      "execution_count": 0,
      "outputs": [
        {
          "output_type": "execute_result",
          "data": {
            "text/plain": [
              "Text(0, 0.5, 'Encoding method')"
            ]
          },
          "metadata": {
            "tags": []
          },
          "execution_count": 13
        },
        {
          "output_type": "display_data",
          "data": {
            "image/png": "[encoded data removed]",
            "text/plain": [
              "<Figure size 864x864 with 1 Axes>"
            ]
          },
          "metadata": {
            "tags": []
          }
        }
      ]
    }
  ]
}